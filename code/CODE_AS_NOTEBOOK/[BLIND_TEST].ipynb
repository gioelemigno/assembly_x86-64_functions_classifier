{
 "metadata": {
  "language_info": {
   "codemirror_mode": {
    "name": "ipython",
    "version": 3
   },
   "file_extension": ".py",
   "mimetype": "text/x-python",
   "name": "python",
   "nbconvert_exporter": "python",
   "pygments_lexer": "ipython3",
   "version": "3.7.4-final"
  },
  "orig_nbformat": 2,
  "kernelspec": {
   "name": "python3",
   "display_name": "Python 3"
  }
 },
 "nbformat": 4,
 "nbformat_minor": 2,
 "cells": [
  {
   "source": [
    "# BLIND TEST"
   ],
   "cell_type": "markdown",
   "metadata": {}
  },
  {
   "source": [
    "'''\n",
    "Best model\n",
    "    Random Forest   SEED_RND = 20201123 n_estimator = 371\n",
    "    Standard dataset\n",
    "    Training set with duplicates\n",
    "'''"
   ],
   "cell_type": "code",
   "metadata": {},
   "execution_count": null,
   "outputs": []
  },
  {
   "cell_type": "code",
   "execution_count": 2,
   "metadata": {},
   "outputs": [],
   "source": [
    "import json\n",
    "from sklearn.metrics import accuracy_score, confusion_matrix, f1_score"
   ]
  },
  {
   "cell_type": "code",
   "execution_count": 3,
   "metadata": {},
   "outputs": [],
   "source": [
    "TRAINING_SET = './dataset_splitted/training_dup.json'\n",
    "VALIDATION_SET = './dataset_splitted/validation.json'\n",
    "TEST_SET = './dataset/vectorizated/DUP/blindtest.json'\n",
    "\n",
    "FILE_PREDICT_OUT = './1795826.txt'"
   ]
  },
  {
   "cell_type": "code",
   "execution_count": 4,
   "metadata": {},
   "outputs": [],
   "source": [
    "SEED_RND = 20201123"
   ]
  },
  {
   "cell_type": "code",
   "execution_count": 14,
   "metadata": {},
   "outputs": [],
   "source": [
    "best_n_estim=371"
   ]
  },
  {
   "cell_type": "code",
   "execution_count": 5,
   "metadata": {},
   "outputs": [],
   "source": [
    "def read_dataset(path):\n",
    "    #load dataset\n",
    "    file_dataset = open(path, 'r')\n",
    "    dataset_json = json.load(file_dataset)\n",
    "\n",
    "    x_meaning  = dataset_json['x_meaning']\n",
    "    y_meaning  = dataset_json['y_meaning']\n",
    "\n",
    "    #EXTRACT DATASET\n",
    "    X = []\n",
    "    Y = []\n",
    "    IDs = []\n",
    "    for elem in dataset_json['dataset']:\n",
    "        X.append(elem['x'])\n",
    "        Y.append(elem['y'])\n",
    "        IDs.append(elem['ID'])\n",
    "\n",
    "    dict_out = {}\n",
    "    dict_out['x_meaning'] = x_meaning\n",
    "    dict_out['y_meaning'] = y_meaning\n",
    "    dict_out['IDs'] = IDs\n",
    "    dict_out['X'] = X \n",
    "    dict_out['Y'] = Y\n",
    "\n",
    "    file_dataset.close()\n",
    "    return dict_out"
   ]
  },
  {
   "cell_type": "code",
   "execution_count": 6,
   "metadata": {},
   "outputs": [],
   "source": [
    "train_set = read_dataset(TRAINING_SET)\n",
    "X_train = train_set['X']\n",
    "Y_train = train_set['Y']\n",
    "\n",
    "validation_set = read_dataset(VALIDATION_SET)\n",
    "X_val = validation_set['X']\n",
    "Y_val = validation_set['Y']\n",
    "\n",
    "test_set = read_dataset(TEST_SET)\n",
    "X_test = test_set['X']\n",
    "Y_test = test_set['Y']"
   ]
  },
  {
   "cell_type": "code",
   "execution_count": 7,
   "metadata": {},
   "outputs": [],
   "source": [
    "x_meaning = train_set['x_meaning']\n",
    "y_meaning = train_set['y_meaning']"
   ]
  },
  {
   "cell_type": "code",
   "execution_count": 11,
   "metadata": {},
   "outputs": [],
   "source": [
    "def scores(model, dataset, ground_truth):\n",
    "    y_pred = model.predict(dataset)\n",
    "    accuracy=accuracy_score(ground_truth, y_pred)\n",
    "    f1=f1_score(ground_truth, y_pred, average='weighted')\n",
    "    return accuracy, f1"
   ]
  },
  {
   "cell_type": "code",
   "execution_count": 15,
   "metadata": {},
   "outputs": [],
   "source": [
    "from sklearn.ensemble import RandomForestClassifier"
   ]
  },
  {
   "cell_type": "code",
   "execution_count": 16,
   "metadata": {},
   "outputs": [
    {
     "output_type": "stream",
     "name": "stdout",
     "text": [
      "Accuracy: 0.9597\nF1 Score: 0.9616\n"
     ]
    }
   ],
   "source": [
    "random_forest_clf = RandomForestClassifier(n_estimators=best_n_estim, n_jobs=-1, random_state=SEED_RND)\n",
    "random_forest_clf.fit(X_train, Y_train)\n",
    "\n",
    "y_pred = random_forest_clf.predict(X_val)\n",
    "\n",
    "accuracy, f1 = scores(random_forest_clf, X_val, Y_val)\n",
    "print(\"Accuracy: \" + \"%.4f\" % accuracy)\n",
    "print(\"F1 Score: \" + \"%.4f\" % f1)"
   ]
  },
  {
   "cell_type": "code",
   "execution_count": 17,
   "metadata": {},
   "outputs": [
    {
     "output_type": "execute_result",
     "data": {
      "text/plain": [
       "array([1, 4, 2, 2, 4, 2, 1, 1, 3, 4, 4, 4, 3, 1, 3, 4, 2, 2, 4, 4, 4, 2,\n",
       "       1, 4, 1, 2, 2, 4, 4, 3, 4, 3, 3, 3, 2, 3, 2, 4, 3, 3, 2, 4, 3, 4,\n",
       "       3, 3, 3, 2, 2, 3, 3, 4, 4, 2, 4, 2, 4, 4, 4, 4, 1, 3, 4, 2, 2, 3,\n",
       "       4, 3, 3, 3, 1, 3, 2, 3, 4, 3, 3, 3, 3, 3, 3, 1, 4, 3, 2, 4, 2, 4,\n",
       "       1, 4, 2, 2, 2, 3, 3, 2, 4, 1, 1, 1, 4, 3, 3, 3, 1, 4, 4, 4, 4, 3,\n",
       "       1, 2, 3, 2, 2, 1, 4, 3, 3, 2, 1, 4, 4, 1, 4, 1, 4, 2, 3, 1, 1, 2,\n",
       "       3, 1, 2, 3, 4, 2, 1, 4, 3, 4, 3, 4, 3, 1, 4, 3, 1, 4, 4, 4, 2, 2,\n",
       "       1, 2, 1, 4, 2, 3, 4, 3, 4, 2, 1, 2, 3, 2, 1, 1, 4, 2, 3, 3, 4, 3,\n",
       "       1, 2, 3, 4, 3, 2, 1, 4, 4, 4, 4, 4, 3, 4, 3, 1, 4, 3, 2, 1, 2, 3,\n",
       "       3, 1, 3, 1, 4, 1, 2, 3, 3, 4, 3, 1, 3, 3, 4, 4, 2, 2, 2, 4, 4, 4,\n",
       "       4, 3, 3, 4, 1, 3, 4, 1, 1, 1, 4, 3, 3, 3, 1, 2, 1, 3, 3, 4, 3, 1,\n",
       "       1, 3, 3, 3, 4, 4, 3, 4, 3, 3, 1, 1, 3, 2, 3, 2, 3, 3, 1, 1, 2, 3,\n",
       "       4, 2, 4, 1, 2, 2, 3, 3, 2, 4, 4, 2, 2, 3, 3, 3, 4, 3, 4, 3, 1, 4,\n",
       "       2, 1, 3, 4, 3, 2, 4, 1, 3, 4, 2, 4, 3, 4, 2, 4, 4, 4, 3, 3, 3, 2,\n",
       "       2, 4, 3, 3, 4, 2, 2, 1, 2, 4, 2, 4, 2, 1, 4, 4, 1, 3, 2, 3, 4, 2,\n",
       "       4, 4, 3, 3, 3, 3, 4, 3, 4, 3, 3, 2, 2, 3, 4, 2, 4, 3, 1, 3, 3, 2,\n",
       "       3, 4, 3, 4, 1, 4, 4, 2, 4, 4, 4, 1, 4, 1, 3, 4, 3, 4, 1, 1, 4, 4,\n",
       "       2, 1, 1, 3, 3, 4, 4, 1, 4, 4, 2, 1, 4, 3, 2, 3, 3, 3, 3, 3, 2, 1,\n",
       "       1, 3, 4, 4, 3, 3, 2, 3, 2, 3, 4, 2, 4, 4, 1, 1, 2, 1, 2, 4, 2, 2,\n",
       "       4, 2, 3, 3, 3, 2, 4, 3, 4, 4, 3, 1, 2, 3, 3, 1, 4, 4, 1, 4, 4, 4,\n",
       "       1, 2, 3, 3, 1, 2, 4, 3, 4, 1, 2, 4, 1, 4, 3, 2, 3, 1, 2, 4, 4, 3,\n",
       "       2, 1, 4, 2, 3, 4, 4, 1, 4, 4, 4, 2, 2, 1, 4, 4, 3, 4, 3, 3, 3, 1,\n",
       "       4, 3, 2, 1, 2, 4, 4, 3, 2, 2, 3, 3, 3, 3, 4, 2, 4, 3, 2, 4, 2, 2,\n",
       "       2, 1, 2, 4, 1, 4, 1, 1, 1, 2, 4, 2, 3, 3, 3, 4, 3, 3, 2, 2, 4, 4,\n",
       "       2, 4, 1, 3, 4, 3, 1, 1, 3, 1, 1, 3, 4, 1, 1, 3, 1, 2, 2, 1, 1, 3,\n",
       "       3, 3, 4, 4, 1, 2, 4, 4, 3, 1, 3, 2, 3, 4, 2, 3, 1, 3, 4, 1, 3, 2,\n",
       "       4, 1, 3, 4, 1, 4, 3, 4, 2, 3, 1, 2, 3, 3, 4, 4, 3, 4, 3, 2, 4, 1,\n",
       "       2, 1, 2, 3, 2, 2, 1, 1, 3, 4, 4, 3, 4, 4, 3, 4, 3, 4, 3, 1, 2, 3,\n",
       "       3, 1, 2, 3, 3, 4, 2, 3, 1, 1, 4, 4, 4, 3, 3, 4, 2, 4, 3, 2, 3, 4,\n",
       "       4, 2, 2, 1, 2, 2, 3, 3, 3, 3, 4, 2, 1, 1, 3, 1, 2, 1, 1, 4, 4, 3,\n",
       "       4, 2, 4, 4, 2, 4, 3, 3, 4, 3, 3, 2, 1, 3, 2, 3, 4, 2, 1, 4, 3, 3,\n",
       "       4, 1, 1, 3, 2, 3, 1, 4, 3, 4, 1, 1, 4, 3, 3, 2, 1, 2, 4, 3, 1, 2,\n",
       "       4, 4, 1, 2, 1, 3, 3, 4, 4, 3, 2, 4, 2, 2, 1, 3, 2, 2, 3, 4, 4, 4,\n",
       "       3, 3, 1, 4, 4, 1, 2, 3, 4, 3, 3, 4, 4, 2, 2, 3, 1, 3, 3, 2, 2, 4,\n",
       "       4, 1, 4, 3, 4, 1, 1, 4, 4])"
      ]
     },
     "metadata": {},
     "execution_count": 17
    }
   ],
   "source": [
    "y_test_predict = random_forest_clf.predict(X_test)\n",
    "y_test_predict"
   ]
  },
  {
   "cell_type": "code",
   "execution_count": 18,
   "metadata": {},
   "outputs": [
    {
     "output_type": "stream",
     "name": "stdout",
     "text": [
      "encryption\nmath\nstring\nstring\nmath\nstring\nencryption\nencryption\nsort\nmath\nmath\nmath\nsort\nencryption\nsort\nmath\nstring\nstring\nmath\nmath\nmath\nstring\nencryption\nmath\nencryption\nstring\nstring\nmath\nmath\nsort\nmath\nsort\nsort\nsort\nstring\nsort\nstring\nmath\nsort\nsort\nstring\nmath\nsort\nmath\nsort\nsort\nsort\nstring\nstring\nsort\nsort\nmath\nmath\nstring\nmath\nstring\nmath\nmath\nmath\nmath\nencryption\nsort\nmath\nstring\nstring\nsort\nmath\nsort\nsort\nsort\nencryption\nsort\nstring\nsort\nmath\nsort\nsort\nsort\nsort\nsort\nsort\nencryption\nmath\nsort\nstring\nmath\nstring\nmath\nencryption\nmath\nstring\nstring\nstring\nsort\nsort\nstring\nmath\nencryption\nencryption\nencryption\nmath\nsort\nsort\nsort\nencryption\nmath\nmath\nmath\nmath\nsort\nencryption\nstring\nsort\nstring\nstring\nencryption\nmath\nsort\nsort\nstring\nencryption\nmath\nmath\nencryption\nmath\nencryption\nmath\nstring\nsort\nencryption\nencryption\nstring\nsort\nencryption\nstring\nsort\nmath\nstring\nencryption\nmath\nsort\nmath\nsort\nmath\nsort\nencryption\nmath\nsort\nencryption\nmath\nmath\nmath\nstring\nstring\nencryption\nstring\nencryption\nmath\nstring\nsort\nmath\nsort\nmath\nstring\nencryption\nstring\nsort\nstring\nencryption\nencryption\nmath\nstring\nsort\nsort\nmath\nsort\nencryption\nstring\nsort\nmath\nsort\nstring\nencryption\nmath\nmath\nmath\nmath\nmath\nsort\nmath\nsort\nencryption\nmath\nsort\nstring\nencryption\nstring\nsort\nsort\nencryption\nsort\nencryption\nmath\nencryption\nstring\nsort\nsort\nmath\nsort\nencryption\nsort\nsort\nmath\nmath\nstring\nstring\nstring\nmath\nmath\nmath\nmath\nsort\nsort\nmath\nencryption\nsort\nmath\nencryption\nencryption\nencryption\nmath\nsort\nsort\nsort\nencryption\nstring\nencryption\nsort\nsort\nmath\nsort\nencryption\nencryption\nsort\nsort\nsort\nmath\nmath\nsort\nmath\nsort\nsort\nencryption\nencryption\nsort\nstring\nsort\nstring\nsort\nsort\nencryption\nencryption\nstring\nsort\nmath\nstring\nmath\nencryption\nstring\nstring\nsort\nsort\nstring\nmath\nmath\nstring\nstring\nsort\nsort\nsort\nmath\nsort\nmath\nsort\nencryption\nmath\nstring\nencryption\nsort\nmath\nsort\nstring\nmath\nencryption\nsort\nmath\nstring\nmath\nsort\nmath\nstring\nmath\nmath\nmath\nsort\nsort\nsort\nstring\nstring\nmath\nsort\nsort\nmath\nstring\nstring\nencryption\nstring\nmath\nstring\nmath\nstring\nencryption\nmath\nmath\nencryption\nsort\nstring\nsort\nmath\nstring\nmath\nmath\nsort\nsort\nsort\nsort\nmath\nsort\nmath\nsort\nsort\nstring\nstring\nsort\nmath\nstring\nmath\nsort\nencryption\nsort\nsort\nstring\nsort\nmath\nsort\nmath\nencryption\nmath\nmath\nstring\nmath\nmath\nmath\nencryption\nmath\nencryption\nsort\nmath\nsort\nmath\nencryption\nencryption\nmath\nmath\nstring\nencryption\nencryption\nsort\nsort\nmath\nmath\nencryption\nmath\nmath\nstring\nencryption\nmath\nsort\nstring\nsort\nsort\nsort\nsort\nsort\nstring\nencryption\nencryption\nsort\nmath\nmath\nsort\nsort\nstring\nsort\nstring\nsort\nmath\nstring\nmath\nmath\nencryption\nencryption\nstring\nencryption\nstring\nmath\nstring\nstring\nmath\nstring\nsort\nsort\nsort\nstring\nmath\nsort\nmath\nmath\nsort\nencryption\nstring\nsort\nsort\nencryption\nmath\nmath\nencryption\nmath\nmath\nmath\nencryption\nstring\nsort\nsort\nencryption\nstring\nmath\nsort\nmath\nencryption\nstring\nmath\nencryption\nmath\nsort\nstring\nsort\nencryption\nstring\nmath\nmath\nsort\nstring\nencryption\nmath\nstring\nsort\nmath\nmath\nencryption\nmath\nmath\nmath\nstring\nstring\nencryption\nmath\nmath\nsort\nmath\nsort\nsort\nsort\nencryption\nmath\nsort\nstring\nencryption\nstring\nmath\nmath\nsort\nstring\nstring\nsort\nsort\nsort\nsort\nmath\nstring\nmath\nsort\nstring\nmath\nstring\nstring\nstring\nencryption\nstring\nmath\nencryption\nmath\nencryption\nencryption\nencryption\nstring\nmath\nstring\nsort\nsort\nsort\nmath\nsort\nsort\nstring\nstring\nmath\nmath\nstring\nmath\nencryption\nsort\nmath\nsort\nencryption\nencryption\nsort\nencryption\nencryption\nsort\nmath\nencryption\nencryption\nsort\nencryption\nstring\nstring\nencryption\nencryption\nsort\nsort\nsort\nmath\nmath\nencryption\nstring\nmath\nmath\nsort\nencryption\nsort\nstring\nsort\nmath\nstring\nsort\nencryption\nsort\nmath\nencryption\nsort\nstring\nmath\nencryption\nsort\nmath\nencryption\nmath\nsort\nmath\nstring\nsort\nencryption\nstring\nsort\nsort\nmath\nmath\nsort\nmath\nsort\nstring\nmath\nencryption\nstring\nencryption\nstring\nsort\nstring\nstring\nencryption\nencryption\nsort\nmath\nmath\nsort\nmath\nmath\nsort\nmath\nsort\nmath\nsort\nencryption\nstring\nsort\nsort\nencryption\nstring\nsort\nsort\nmath\nstring\nsort\nencryption\nencryption\nmath\nmath\nmath\nsort\nsort\nmath\nstring\nmath\nsort\nstring\nsort\nmath\nmath\nstring\nstring\nencryption\nstring\nstring\nsort\nsort\nsort\nsort\nmath\nstring\nencryption\nencryption\nsort\nencryption\nstring\nencryption\nencryption\nmath\nmath\nsort\nmath\nstring\nmath\nmath\nstring\nmath\nsort\nsort\nmath\nsort\nsort\nstring\nencryption\nsort\nstring\nsort\nmath\nstring\nencryption\nmath\nsort\nsort\nmath\nencryption\nencryption\nsort\nstring\nsort\nencryption\nmath\nsort\nmath\nencryption\nencryption\nmath\nsort\nsort\nstring\nencryption\nstring\nmath\nsort\nencryption\nstring\nmath\nmath\nencryption\nstring\nencryption\nsort\nsort\nmath\nmath\nsort\nstring\nmath\nstring\nstring\nencryption\nsort\nstring\nstring\nsort\nmath\nmath\nmath\nsort\nsort\nencryption\nmath\nmath\nencryption\nstring\nsort\nmath\nsort\nsort\nmath\nmath\nstring\nstring\nsort\nencryption\nsort\nsort\nstring\nstring\nmath\nmath\nencryption\nmath\nsort\nmath\nencryption\nencryption\nmath\nmath\n"
     ]
    }
   ],
   "source": [
    "for pred in y_test_predict:\n",
    "    print(y_meaning[pred])"
   ]
  },
  {
   "cell_type": "code",
   "execution_count": 21,
   "metadata": {},
   "outputs": [],
   "source": [
    "file_out = open(FILE_PREDICT_OUT, 'w')\n",
    "for pred in y_test_predict:\n",
    "    file_out.write(y_meaning[pred]+'\\n')\n",
    "file_out.close()"
   ]
  },
  {
   "cell_type": "code",
   "execution_count": null,
   "metadata": {},
   "outputs": [],
   "source": []
  }
 ]
}